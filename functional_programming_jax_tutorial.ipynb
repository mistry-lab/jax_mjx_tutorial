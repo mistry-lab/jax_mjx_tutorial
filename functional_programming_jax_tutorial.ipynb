{
 "cells": [
  {
   "cell_type": "markdown",
   "id": "005e18e4",
   "metadata": {},
   "source": [
    "# Functional Programming: Key Principles and Examples"
   ]
  },
  {
   "cell_type": "markdown",
   "id": "9d6b0396",
   "metadata": {},
   "source": [
    "\n",
    "### 1. **Pure Functions**\n",
    "- **Definition:** A function is pure if its output depends only on its input and has no side effects (like modifying global state, performing I/O operations, or mutating inputs).\n",
    "- **Why it matters:** JAX transformations like `grad` and `jit` assume that functions are pure. Pure functions ensure predictable behavior when these transformations are applied.\n",
    "        "
   ]
  },
  {
   "cell_type": "code",
   "execution_count": null,
   "id": "23e1779b",
   "metadata": {},
   "outputs": [],
   "source": [
    "global_state = 0\n",
    "\n",
    "def impure_function(x):\n",
    "    global global_state\n",
    "    global_state += 1  # Modifies global state (side effect)\n",
    "    return x * global_state  # Output depends on external state\n",
    "\n",
    "impure_function(3)  # Output depends on global_state\n",
    "        "
   ]
  },
  {
   "cell_type": "markdown",
   "id": "380e46bd",
   "metadata": {},
   "source": [
    "\n",
    "**Why this is bad:** The output of the function depends on the external variable `global_state`, which is modified each time the function is called. This makes the function unpredictable, and JAX's transformations (like `grad` or `jit`) will not work reliably on it.\n",
    "        "
   ]
  },
  {
   "cell_type": "markdown",
   "id": "fa85d597",
   "metadata": {},
   "source": [
    "\n",
    "### 2. **Immutability**\n",
    "- **Definition:** In functional programming, data structures are immutable. Once created, they cannot be modified. Any operation that appears to \"change\" data actually returns a new version of it.\n",
    "- **Why it matters:** JAX arrays (via `jax.numpy`) are immutable. This is crucial for safe parallel execution and reproducible results, especially when optimizing code for hardware accelerators (like GPUs or TPUs).\n",
    "        "
   ]
  },
  {
   "cell_type": "code",
   "execution_count": 60,
   "id": "bf82c0d2",
   "metadata": {
    "ExecuteTime": {
     "end_time": "2024-09-17T13:39:15.053916Z",
     "start_time": "2024-09-17T13:39:15.045409Z"
    }
   },
   "outputs": [
    {
     "name": "stdout",
     "output_type": "stream",
     "text": [
      "[100, 2, 3]\n"
     ]
    }
   ],
   "source": [
    "\n",
    "# Example of mutable operation (Not Allowed)\n",
    "def mutable_function(arr):\n",
    "    arr[0] = 100  # Modifies the input array directly\n",
    "    return arr\n",
    "\n",
    "x = [1, 2, 3]\n",
    "mutable_function(x)  # Mutates the original array\n",
    "print(x)  # x is now [100, 2, 3]\n",
    "        "
   ]
  },
  {
   "cell_type": "markdown",
   "id": "67aa502d",
   "metadata": {},
   "source": [
    "\n",
    "**Why this is bad:** The function mutates the input array `arr`, which violates the immutability principle. In JAX, you should return new arrays rather than modifying existing ones."
   ]
  },
  {
   "cell_type": "markdown",
   "id": "eb8f6dbc",
   "metadata": {},
   "source": [
    "\n",
    "### 3. **First-Class Functions**\n",
    "- **Definition:** Functions are treated as first-class citizens, meaning they can be passed as arguments to other functions, returned as values, or assigned to variables.\n",
    "- **Why it matters:** Many of JAX's key features (like `vmap`, `grad`, `jit`) are higher-order functions—they take functions as inputs and return new, transformed functions. Understanding how to pass and compose functions is essential."
   ]
  },
  {
   "cell_type": "markdown",
   "id": "71b25e8d",
   "metadata": {},
   "source": [
    "\n",
    "### 4. **Function Composition**\n",
    "- **Definition:** Combining multiple simple functions into a more complex function. This is a core idea in functional programming.\n",
    "- **Why it matters:** In JAX, transformations (like `grad` or `jit`) are applied to entire functions, and you can easily compose these transformations together. For example, you can `jit` a function that returns a gradient (`jit(grad(f))`), or `vmap` a `jit`-compiled function (`vmap(jit(f))`), all while maintaining clean, composable code.\n",
    "        "
   ]
  },
  {
   "cell_type": "code",
   "execution_count": null,
   "id": "541296b8",
   "metadata": {},
   "outputs": [],
   "source": [
    "\n",
    "# Example of not composing functions (Not Allowed)\n",
    "def f1(x):\n",
    "    return x + 2\n",
    "\n",
    "def f2(x):\n",
    "    return x * 3\n",
    "\n",
    "# Not composing functions (executing them separately)\n",
    "y = f1(5)\n",
    "z = f2(y)\n",
    "        "
   ]
  },
  {
   "cell_type": "markdown",
   "id": "ff71c0a8",
   "metadata": {},
   "source": [
    "\n",
    "**Why this is suboptimal:** Here, `f1` and `f2` are called sequentially, rather than being composed into a single function. In JAX, it’s better to compose functions to take advantage of transformations like `jit` and `grad`:\n",
    "        "
   ]
  },
  {
   "cell_type": "code",
   "execution_count": null,
   "id": "387358a8",
   "metadata": {},
   "outputs": [],
   "source": [
    "\n",
    "# Better: Composing functions\n",
    "def composed(x):\n",
    "    return f2(f1(x))\n",
    "\n",
    "z = composed(5)\n",
    "        "
   ]
  },
  {
   "cell_type": "code",
   "execution_count": null,
   "id": "af10777c",
   "metadata": {},
   "outputs": [],
   "source": [
    "\n",
    "# In JAX, you can also compose transformations like this:\n",
    "from jax import grad, jit\n",
    "\n",
    "def func(x):\n",
    "    return x ** 2 + 3 * x\n",
    "\n",
    "# Compose grad and jit\n",
    "grad_jit_func = jit(grad(func))\n",
    "        "
   ]
  },
  {
   "cell_type": "markdown",
   "id": "2a38ea19",
   "metadata": {},
   "source": [
    "\n",
    "### 5. **No Side Effects**\n",
    "- **Definition:** A side effect occurs when a function alters something outside its scope, such as modifying global variables, printing output, or changing input data.\n",
    "- **Why it matters:** JAX transformations assume functions are side-effect-free. Side effects can lead to unpredictable behavior, especially when running code on multiple devices or differentiating through functions.\n",
    "        "
   ]
  },
  {
   "cell_type": "code",
   "execution_count": 6,
   "id": "55208f2a",
   "metadata": {},
   "outputs": [
    {
     "data": {
      "text/plain": [
       "([0, 1, 1], [0, 1, 1, 0, 1, 1])"
      ]
     },
     "execution_count": 6,
     "metadata": {},
     "output_type": "execute_result"
    }
   ],
   "source": [
    "\n",
    "# Example of side effects (Not Allowed)\n",
    "def function_with_side_effects(x):\n",
    "    x[0] = 0\n",
    "    return x * 2\n",
    "\n",
    "x = [1, 1, 1]\n",
    "x_m = function_with_side_effects(x)\n",
    "x, x_m\n",
    "        "
   ]
  },
  {
   "cell_type": "markdown",
   "id": "6b00f1a3d5cc60b2",
   "metadata": {},
   "source": [
    "**Why this is bad:** The function mutates. JAX transformations like `jit` and `grad` work best when functions have no side effects."
   ]
  },
  {
   "cell_type": "markdown",
   "id": "f19255de-16c3-437f-b390-06ed000e3b14",
   "metadata": {},
   "source": [
    "# JAX: Key Principles and Examples"
   ]
  },
  {
   "cell_type": "code",
   "execution_count": 1,
   "id": "4d86f42f-6d48-4a27-a252-856345c6f8a7",
   "metadata": {},
   "outputs": [],
   "source": [
    "import numpy as np\n",
    "import jax.numpy as jnp\n",
    "from jax import jit\n",
    "from jax import vmap\n",
    "import matplotlib.pyplot as plt"
   ]
  },
  {
   "cell_type": "markdown",
   "id": "cff44036-ab40-461d-8539-9775d26fd771",
   "metadata": {},
   "source": [
    "### 1. **NumPy Compatibility**\n",
    "JAX provides a NumPy-inspired interface for convenience. Through duck-typing, JAX arrays can often be used as drop-in replacements for NumPy arrays."
   ]
  },
  {
   "cell_type": "code",
   "execution_count": 2,
   "id": "8ded0375-7940-4cc7-b0bc-1c0e3d53c654",
   "metadata": {},
   "outputs": [
    {
     "name": "stderr",
     "output_type": "stream",
     "text": [
      "2024-09-18 11:23:28.087889: W external/xla/xla/service/gpu/nvptx_compiler.cc:765] The NVIDIA driver's CUDA version is 12.5 which is older than the ptxas CUDA version (12.6.68). Because the driver is older than the ptxas version, XLA is disabling parallel compilation, which may slow down compilation. You should update your NVIDIA driver or use the NVIDIA-provided CUDA forward compatibility packages.\n"
     ]
    },
    {
     "data": {
      "image/png": "[encoded data removed]",
      "text/plain": [
       "<Figure size 640x480 with 1 Axes>"
      ]
     },
     "metadata": {},
     "output_type": "display_data"
    }
   ],
   "source": [
    "# NumPy\n",
    "x_np = np.linspace(0, 10, 1000)\n",
    "y_np = 2 * np.sin(x_np) * np.cos(x_np)\n",
    "\n",
    "# JAX (JAX arrays can replace NumPy arrays)\n",
    "x_jnp = jnp.linspace(0, 10, 1000)\n",
    "y_jnp = 2 * jnp.sin(x_jnp) * jnp.cos(x_jnp)\n",
    "\n",
    "# Both will work for plotting\n",
    "plt.plot(x_np, y_np, label=\"NumPy\")\n",
    "plt.plot(x_jnp, y_jnp, label=\"JAX\")\n",
    "plt.legend()\n",
    "plt.show()"
   ]
  },
  {
   "cell_type": "markdown",
   "id": "8185c6a4-6e96-4f43-80c6-317cfd795b91",
   "metadata": {},
   "source": [
    "### 2. **Immutability**\n",
    "Unlike NumPy arrays, JAX arrays are immutable. Once created, they cannot be modified. If you try to mutate JAX arrays, an error will occur."
   ]
  },
  {
   "cell_type": "code",
   "execution_count": 3,
   "id": "0701bf37-fe4c-47bd-b687-9a79479cc633",
   "metadata": {},
   "outputs": [
    {
     "name": "stdout",
     "output_type": "stream",
     "text": [
      "NumPy Array: [10  1  2  3  4  5  6  7  8  9]\n",
      "Error: '<class 'jaxlib.xla_extension.ArrayImpl'>' object does not support item assignment. JAX arrays are immutable. Instead of ``x[idx] = y``, use ``x = x.at[idx].set(y)`` or another .at[] method: https://jax.readthedocs.io/en/latest/_autosummary/jax.numpy.ndarray.at.html\n",
      "Original JAX Array: [0 1 2 3 4 5 6 7 8 9]\n",
      "Updated JAX Array: [10  1  2  3  4  5  6  7  8  9]\n"
     ]
    }
   ],
   "source": [
    "# NumPy: Mutable arrays\n",
    "x = np.arange(10)\n",
    "x[0] = 10  # Works fine in NumPy\n",
    "print(\"NumPy Array:\", x)\n",
    "\n",
    "# JAX: Immutable arrays\n",
    "x_jax = jnp.arange(10)\n",
    "try:\n",
    "    x_jax[0] = 10  # This will raise an error in JAX\n",
    "except TypeError as e:\n",
    "    print(f\"Error: {e}\")\n",
    "\n",
    "# Instead, use indexed update\n",
    "y_jax = x_jax.at[0].set(10)\n",
    "print(\"Original JAX Array:\", x_jax)\n",
    "print(\"Updated JAX Array:\", y_jax)"
   ]
  },
  {
   "cell_type": "markdown",
   "id": "81c0e9ac-5a29-44fb-a0f3-b5eccf148250",
   "metadata": {},
   "source": [
    "### 3. **vmap for Automatic Vectorization**\n",
    "vmap is used to automatically vectorize functions, enabling you to apply the function over batches of data without manually writing loops."
   ]
  },
  {
   "cell_type": "code",
   "execution_count": 4,
   "id": "6bafc420-07fe-45c8-9afd-f87d2401a7de",
   "metadata": {},
   "outputs": [
    {
     "name": "stdout",
     "output_type": "stream",
     "text": [
      "Batched Results: [ 1  4  9 16]\n"
     ]
    }
   ],
   "source": [
    "# Function that operates on single data point\n",
    "def square(x):\n",
    "    return x ** 2\n",
    "\n",
    "# Use vmap to apply the function across a batch\n",
    "batched_square = vmap(square, in_axes=(0))\n",
    "\n",
    "# Apply over a batch of data\n",
    "x = jnp.array([1, 2, 3, 4])\n",
    "print(\"Batched Results:\", batched_square(x))  # [1, 4, 9, 16]\n"
   ]
  },
  {
   "cell_type": "markdown",
   "id": "d97214f5-e5c0-4522-b6c7-69e1cb57fd61",
   "metadata": {},
   "source": [
    "### 4. **jit for Just-In-Time Compilation**\n",
    "jit is used to compile functions to execute efficiently using XLA, enabling significant speedups."
   ]
  },
  {
   "cell_type": "code",
   "execution_count": 5,
   "id": "ce444703-ea1c-405e-b68d-2780d218c9ea",
   "metadata": {},
   "outputs": [
    {
     "name": "stdout",
     "output_type": "stream",
     "text": [
      "282 µs ± 91.9 µs per loop (mean ± std. dev. of 7 runs, 1 loop each)\n",
      "62.8 µs ± 6.49 µs per loop (mean ± std. dev. of 7 runs, 10,000 loops each)\n"
     ]
    }
   ],
   "source": [
    "from jax import jit \n",
    "# Function to normalize rows of a matrix\n",
    "def normalize_rows(X):\n",
    "    X = X - X.mean(0)\n",
    "    return X / X.std(0)\n",
    "\n",
    "# JIT-compiled version of the function\n",
    "normalize_jit = jit(normalize_rows)\n",
    "\n",
    "# Input data\n",
    "X = jnp.array(np.random.rand(1000, 10))\n",
    "\n",
    "# Timing without jit\n",
    "%timeit normalize_rows(X).block_until_ready()\n",
    "\n",
    "# Timing with jit\n",
    "%timeit normalize_jit(X).block_until_ready()"
   ]
  },
  {
   "cell_type": "markdown",
   "id": "f2b80b99-3afa-429b-96b8-6b46dfacb499",
   "metadata": {},
   "source": [
    "### 5. **`grad`: Automatic Differentiation in JAX**\n",
    "JAX provides a `grad` function to compute the gradient (derivative) of another function with respect to its inputs. This is a core feature for tasks like optimization and machine learning.\n",
    "\n",
    "#### Example Function\n",
    "Let's define a simple function \\( f(x) = x^2 + 3x \\). The derivative of this function is easy to compute by hand: \\( f'(x) = 2x + 3 \\).\n"
   ]
  },
  {
   "cell_type": "code",
   "execution_count": 6,
   "id": "157bfdbd-df1d-438e-8210-80cbe434a6d4",
   "metadata": {},
   "outputs": [
    {
     "name": "stdout",
     "output_type": "stream",
     "text": [
      "f'(2.0) = 7.0\n"
     ]
    }
   ],
   "source": [
    "import jax.numpy as jnp\n",
    "from jax import grad\n",
    "\n",
    "# Define the simple function\n",
    "def f(x):\n",
    "    return x**2 + 3*x\n",
    "\n",
    "x = f(x)\n",
    "\n",
    "# Compute the gradient using JAX\n",
    "grad_f = grad(f)\n",
    "\n",
    "# Test it with an example value\n",
    "x = 2.0\n",
    "print(\"f'(2.0) =\", grad_f(x))  # Should return 2 * 2 + 3 = 7"
   ]
  },
  {
   "cell_type": "markdown",
   "id": "bfe5b76c-fe06-4317-b9ea-821ed3b78687",
   "metadata": {},
   "source": [
    "### 6. **Combining jit and vmap for Speed-up**"
   ]
  },
  {
   "cell_type": "code",
   "execution_count": 7,
   "id": "a054d510-2d28-45a0-908e-7ff8bb4d4f55",
   "metadata": {},
   "outputs": [
    {
     "name": "stdout",
     "output_type": "stream",
     "text": [
      "5.23 ms ± 214 µs per loop (mean ± std. dev. of 7 runs, 1 loop each)\n",
      "46.6 µs ± 1.46 µs per loop (mean ± std. dev. of 7 runs, 10,000 loops each)\n"
     ]
    }
   ],
   "source": [
    "# JIT-compiled, vectorized gradient function\n",
    "# Vectorized version of the gradient function\n",
    "vmap_grad_f = vmap(grad_f)\n",
    "\n",
    "# Test on a batch of values\n",
    "x_batch = jnp.array([1.0, 2.0, 3.0])\n",
    "\n",
    "jit_vmap_grad_f = jit(vmap(grad_f))\n",
    "\n",
    "# Timing the vectorized and JIT-compiled version\n",
    "%timeit vmap_grad_f(x_batch).block_until_ready()  # Without JIT\n",
    "%timeit jit_vmap_grad_f(x_batch).block_until_ready()  # With JIT\n"
   ]
  },
  {
   "cell_type": "markdown",
   "id": "94c7add3-d163-4e89-9104-7740f0e3a639",
   "metadata": {},
   "source": [
    "### 7. **State management in JAX**"
   ]
  },
  {
   "cell_type": "code",
   "execution_count": 8,
   "id": "a0a73c4e-5240-4878-803a-7daa56881b92",
   "metadata": {},
   "outputs": [
    {
     "name": "stdout",
     "output_type": "stream",
     "text": [
      "1\n",
      "2\n",
      "3\n"
     ]
    }
   ],
   "source": [
    "import jax\n",
    "import jax.numpy as jnp\n",
    "from jax import jit\n",
    "\n",
    "# Define a simple Counter class\n",
    "class Counter:\n",
    "    \"\"\"A simple counter that maintains internal state.\"\"\"\n",
    "    \n",
    "    def __init__(self):\n",
    "        self.n = 0  # Internal state\n",
    "\n",
    "    def count(self) -> int:\n",
    "        \"\"\"Increments the counter and returns the new value.\"\"\"\n",
    "        self.n += 1  # This modifies the internal state\n",
    "        return self.n\n",
    "\n",
    "    def reset(self):\n",
    "        \"\"\"Resets the counter to zero.\"\"\"\n",
    "        self.n = 0\n",
    "\n",
    "# Create an instance of the Counter\n",
    "counter = Counter()\n",
    "\n",
    "# Test the counter\n",
    "for _ in range(3):\n",
    "    print(counter.count())  # Expected output: 1, 2, 3\n"
   ]
  },
  {
   "cell_type": "markdown",
   "id": "3549ec6c-052e-488d-9771-c934c4306519",
   "metadata": {},
   "source": [
    "Lets jit it to get some speed up"
   ]
  },
  {
   "cell_type": "code",
   "execution_count": 9,
   "id": "de71025c-32c5-46c2-a81d-def2b6da8cd9",
   "metadata": {},
   "outputs": [
    {
     "name": "stdout",
     "output_type": "stream",
     "text": [
      "1\n",
      "1\n",
      "1\n"
     ]
    }
   ],
   "source": [
    "counter.reset()\n",
    "fast_count = jit(counter.count)\n",
    "\n",
    "for _ in range(3):\n",
    "    print(fast_count())  # Output will be incorrect: 1, 1, 1\n"
   ]
  },
  {
   "cell_type": "markdown",
   "id": "1af380c7-8880-45af-a5f1-0da8bf68af5d",
   "metadata": {},
   "source": [
    "**Fix: Using Explicit State Management**\n",
    "To handle state properly in JAX, we pass the state explicitly as a function argument and return the updated state as part of the output."
   ]
  },
  {
   "cell_type": "code",
   "execution_count": 10,
   "id": "9490a442-795f-4133-a979-67ecf237f3e1",
   "metadata": {},
   "outputs": [
    {
     "name": "stdout",
     "output_type": "stream",
     "text": [
      "1\n",
      "2\n",
      "3\n"
     ]
    }
   ],
   "source": [
    "# Define a new Counter class with explicit state\n",
    "class CounterV2:\n",
    "    \n",
    "    def count(self, n: int) -> tuple[int, int]:\n",
    "        \"\"\"Increments the counter and returns the new value and updated state.\"\"\"\n",
    "        return n + 1, n + 1  # Return updated value and state\n",
    "\n",
    "    def reset(self) -> int:\n",
    "        \"\"\"Resets the counter state.\"\"\"\n",
    "        return 0\n",
    "\n",
    "# Create an instance of the new Counter\n",
    "counter_v2 = CounterV2()\n",
    "state = counter_v2.reset()\n",
    "\n",
    "# Test with manual state management\n",
    "for _ in range(3):\n",
    "    value, state = counter_v2.count(state)\n",
    "    print(value)  # Expected output: 1, 2, 3\n"
   ]
  },
  {
   "cell_type": "markdown",
   "id": "a506e4d9-d369-45a6-8135-49782fe9794f",
   "metadata": {},
   "source": [
    "We can now jit the process"
   ]
  },
  {
   "cell_type": "code",
   "execution_count": 11,
   "id": "2fd94fa3-4dfc-400e-b2d7-851e529a1b29",
   "metadata": {},
   "outputs": [
    {
     "name": "stdout",
     "output_type": "stream",
     "text": [
      "1\n",
      "2\n",
      "3\n"
     ]
    }
   ],
   "source": [
    "# JIT-compile the count method\n",
    "fast_count_v2 = jit(counter_v2.count)\n",
    "\n",
    "# Reset state and test with JIT\n",
    "state = counter_v2.reset()\n",
    "for _ in range(3):\n",
    "    value, state = fast_count_v2(state)\n",
    "    print(value)  # Expected output: 1, 2, 3\n"
   ]
  },
  {
   "cell_type": "markdown",
   "id": "0eedee47-5829-4183-a16f-3b01809a9d3b",
   "metadata": {},
   "source": [
    "# MJX: Key Principles and Examples"
   ]
  },
  {
   "cell_type": "markdown",
   "id": "dac8b2eb-e0ef-47b0-8eef-0942099c07d8",
   "metadata": {},
   "source": [
    "### 1. **`Creating a model and data**\n",
    "Mujoco API model works with two structures: model and data. All functions perform their computation using these two structures, which should be passed in as arguments. MJX is the JAX version of MUJOCO and XLA is the compiler that handles JIT VMAP and GRAD in JAX and JAX is a DL/LA library"
   ]
  },
  {
   "cell_type": "code",
   "execution_count": 17,
   "id": "bc15e6bb-f561-4e53-98b0-47734b1d20d4",
   "metadata": {},
   "outputs": [],
   "source": [
    "import mujoco\n",
    "from mujoco import mjx\n",
    "\n",
    "# all on CPU side\n",
    "model = mujoco.MjModel.from_xml_path(\"./xmls/cartpole.xml\")\n",
    "data = mujoco.MjData(model)\n",
    "\n",
    "# send to GPU side\n",
    "mx = mjx.put_model(model)\n",
    "dx = mjx.make_data(mx)"
   ]
  },
  {
   "cell_type": "markdown",
   "id": "58cebc27-8b24-492b-b73c-9952074d01c3",
   "metadata": {},
   "source": [
    "### 2. **Stepping the model given initial conditions**\n",
    "Mujoco API model works with two structures: model and data. All functions perform their computation using these two structures, which should be passed in as arguments."
   ]
  },
  {
   "cell_type": "code",
   "execution_count": 18,
   "id": "5c59ebc8-ba16-4d78-b954-0e3167623543",
   "metadata": {},
   "outputs": [],
   "source": [
    "init_key = jax.random.PRNGKey(0)\n",
    "key, subkey = jax.random.split(init_key)\n",
    "batch = 100    \n",
    "x_init = jnp.concatenate([\n",
    "            jax.random.uniform(key, (batch, 1), minval=-0.1, maxval=0.1),\n",
    "            jax.random.uniform(key, (batch, 1), minval=-0.1, maxval=0.1),\n",
    "            jax.random.uniform(key, (batch, 1), minval=-0.1, maxval=0.1),\n",
    "            jax.random.uniform(key, (batch, 1), minval=-0.1, maxval=0.1)\n",
    "        ], axis=1).squeeze()"
   ]
  },
  {
   "cell_type": "markdown",
   "id": "f6ded66b-0d4a-4a59-8198-3e74cdbee488",
   "metadata": {},
   "source": [
    "We now need to pass this batch of initial condition to function that can set our states (pos and vel). Hint: vmap"
   ]
  },
  {
   "cell_type": "code",
   "execution_count": 19,
   "id": "f5c6dedf-14c7-47a7-9a15-89f6fb826f6b",
   "metadata": {},
   "outputs": [],
   "source": [
    "def set_init(x):\n",
    "    dx = mjx.make_data(mx)\n",
    "    qpos = dx.qpos.at[:].set(x[:mx.nq])\n",
    "    qvel = dx.qvel.at[:].set(x[mx.nq:])\n",
    "    dx = dx.replace(qpos=qpos, qvel=qvel)\n",
    "    return dx\n",
    "\n",
    "# get the new dx with a batch of states\n",
    "dx = jax.vmap(set_init, in_axes=(0))(x_init)"
   ]
  },
  {
   "cell_type": "code",
   "execution_count": 20,
   "id": "ca444f99-0d3c-4464-b962-ee78ca4c215c",
   "metadata": {},
   "outputs": [
    {
     "data": {
      "text/plain": [
       "(100, 2)"
      ]
     },
     "execution_count": 20,
     "metadata": {},
     "output_type": "execute_result"
    }
   ],
   "source": [
    "dx.qvel.shape"
   ]
  },
  {
   "cell_type": "markdown",
   "id": "0a901191-1352-4957-b20f-60b26aa9f231",
   "metadata": {},
   "source": [
    "### 3. How do we step over multiple times?\n",
    "Sequential operations in Jax are done via scan. \n",
    "'''\n",
    "    def scan(f, init, xs, length=None):\n",
    "      if xs is None:\n",
    "        xs = [None] * length\n",
    "      carry = init\n",
    "      ys = []\n",
    "      for x in xs:\n",
    "        carry, y = f(carry, x)\n",
    "        ys.append(y)\n",
    "      return carry, np.stack(ys)\n",
    "'''      "
   ]
  },
  {
   "cell_type": "code",
   "execution_count": 21,
   "id": "4107a3e0-8b38-4cb8-90cf-a84e54ceaaa7",
   "metadata": {},
   "outputs": [],
   "source": [
    "def simulate(x_init, mx):\n",
    "\n",
    "    def set_init(x):\n",
    "        dx = mjx.make_data(mx)\n",
    "        qpos = dx.qpos.at[:].set(x[:mx.nq])\n",
    "        qvel = dx.qvel.at[:].set(x[mx.nq:])\n",
    "        dx = dx.replace(qpos=qpos, qvel=qvel)\n",
    "        return dx\n",
    "\n",
    "    def mjx_step(dx, _):\n",
    "        dx = mjx.step(mx, dx)\n",
    "        # dx = set_ctrl(dx)\n",
    "        return dx, jnp.concatenate([dx.qpos, dx.qvel, dx.ctrl], axis=0) # CARRY, YS\n",
    "\n",
    "    dx = set_init(x_init)\n",
    "    _, batched_traj = jax.lax.scan(mjx_step, dx, None, length=100)\n",
    "    x, u = batched_traj[..., :-mx.nu], batched_traj[..., -mx.nu:]\n",
    "    return x, u"
   ]
  },
  {
   "cell_type": "markdown",
   "id": "47e09b69-169f-41b1-a6c0-5fcb47763773",
   "metadata": {},
   "source": [
    "now lets vmap and simulate"
   ]
  },
  {
   "cell_type": "code",
   "execution_count": 22,
   "id": "be933486-6f42-4143-97f5-53305be9269c",
   "metadata": {},
   "outputs": [],
   "source": [
    "simulate_vmapped = jax.vmap(simulate, in_axes=(0, None))\n",
    "x, u = simulate_vmapped(x_init, mx)"
   ]
  },
  {
   "cell_type": "code",
   "execution_count": 23,
   "id": "9c12c677-a9d9-4fcc-835f-97dee7b884cd",
   "metadata": {},
   "outputs": [
    {
     "data": {
      "text/plain": [
       "((100, 100, 4), (100, 100, 1))"
      ]
     },
     "execution_count": 23,
     "metadata": {},
     "output_type": "execute_result"
    }
   ],
   "source": [
    "x.shape, u.shape"
   ]
  },
  {
   "cell_type": "markdown",
   "id": "04c1df5e-6e3a-43db-bcc4-ac234a73cb42",
   "metadata": {},
   "source": [
    "will jitting make a difference?"
   ]
  },
  {
   "cell_type": "code",
   "execution_count": 24,
   "id": "8a42d6fc-b850-4c2a-a97d-0274113c8dee",
   "metadata": {},
   "outputs": [
    {
     "name": "stdout",
     "output_type": "stream",
     "text": [
      "Timing non-JIT version:\n",
      "12.3 s ± 97 ms per loop (mean ± std. dev. of 7 runs, 1 loop each)\n",
      "Timing JIT version:\n",
      "38.6 ms ± 4.84 ms per loop (mean ± std. dev. of 7 runs, 1 loop each)\n"
     ]
    }
   ],
   "source": [
    "# Jitted version of vmap\n",
    "import timeit\n",
    "simulate_jit_vmapped = jit(simulate_vmapped)\n",
    "\n",
    "print(\"Timing non-JIT version:\")\n",
    "%timeit simulate_vmapped(x_init, mx)  # Non-JIT version\n",
    "\n",
    "print(\"Timing JIT version:\")\n",
    "%timeit simulate_jit_vmapped(x_init, mx)  # JIT version\n",
    "\n",
    "# Check results are the same\n",
    "x_non_jit = simulate_vmapped(x_init, mx)\n",
    "x_jit = simulate_jit_vmapped(x_init, mx)"
   ]
  },
  {
   "cell_type": "code",
   "execution_count": null,
   "id": "410eda5c-96a8-413f-ad12-a2ae3ec445da",
   "metadata": {},
   "outputs": [],
   "source": []
  }
 ],
 "metadata": {
  "kernelspec": {
   "display_name": "Python 3 (ipykernel)",
   "language": "python",
   "name": "python3"
  },
  "language_info": {
   "codemirror_mode": {
    "name": "ipython",
    "version": 3
   },
   "file_extension": ".py",
   "mimetype": "text/x-python",
   "name": "python",
   "nbconvert_exporter": "python",
   "pygments_lexer": "ipython3",
   "version": "3.9.5"
  }
 },
 "nbformat": 4,
 "nbformat_minor": 5
}
